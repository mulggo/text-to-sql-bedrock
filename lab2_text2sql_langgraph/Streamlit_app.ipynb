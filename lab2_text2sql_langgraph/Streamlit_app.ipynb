{
 "cells": [
  {
   "cell_type": "code",
   "execution_count": null,
   "id": "caf95732-a6a3-4609-b97e-8aa97140eaff",
   "metadata": {},
   "outputs": [],
   "source": [
    "!pip install streamlit"
   ]
  },
  {
   "cell_type": "code",
   "execution_count": 1,
   "id": "57c72668-1a70-4c4a-841d-fd4c2cd61b47",
   "metadata": {
    "tags": []
   },
   "outputs": [],
   "source": [
    "%%bash\n",
    "mkdir -p ~/.streamlit\n",
    "cat > ~/.streamlit/config.toml <<EOF\n",
    "[server]\n",
    "enableXsrfProtection = false\n",
    "enableCORS = false\n",
    "EOF"
   ]
  },
  {
   "cell_type": "code",
   "execution_count": null,
   "id": "52b5c6a6-a85a-4d49-b474-3c2992a2d64d",
   "metadata": {
    "tags": []
   },
   "outputs": [],
   "source": [
    "# 터미널에서 파일이 위치한 디렉토리로 이동한 후 아래 명령어 수행\n",
    "\n",
    "streamlit run app.py --server.port 8505"
   ]
  },
  {
   "cell_type": "code",
   "execution_count": null,
   "id": "5d7599fd-6f31-493e-99ad-04ffdaf709ba",
   "metadata": {},
   "outputs": [],
   "source": [
    "# 주피터랩 URL을 아래 입력\n",
    "url = \"\"\n",
    "# 형식 : \"https://.../setup-streamlit.ipynb\""
   ]
  },
  {
   "cell_type": "code",
   "execution_count": 12,
   "id": "1af749e4-7f59-497d-a8c7-329a962d5599",
   "metadata": {
    "tags": []
   },
   "outputs": [
    {
     "name": "stdout",
     "output_type": "stream",
     "text": [
      "https://my-bedrock-2.notebook.us-west-2.sagemaker.aws/proxy/8505/\n"
     ]
    }
   ],
   "source": [
    "base_url = url.split(\"lab/\")[0]\n",
    "new_url = base_url + \"proxy/8505/\"\n",
    "\n",
    "print(new_url)"
   ]
  }
 ],
 "metadata": {
  "kernelspec": {
   "display_name": "conda_pytorch_p310",
   "language": "python",
   "name": "conda_pytorch_p310"
  },
  "language_info": {
   "codemirror_mode": {
    "name": "ipython",
    "version": 3
   },
   "file_extension": ".py",
   "mimetype": "text/x-python",
   "name": "python",
   "nbconvert_exporter": "python",
   "pygments_lexer": "ipython3",
   "version": "3.10.14"
  }
 },
 "nbformat": 4,
 "nbformat_minor": 5
}
